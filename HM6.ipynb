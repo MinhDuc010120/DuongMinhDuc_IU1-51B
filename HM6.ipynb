{
 "cells": [
  {
   "cell_type": "markdown",
   "metadata": {},
   "source": [
    "- Создайте класс Point(x, y) x, y - координаты точки на плоскости.\n",
    "- Реализуйте два метода a.distanceTo(b) - евкливодов расстояние между $a$ и $b$\n",
    "- Переопределите __str__ так чтобы при печати экземпляра выводилось (x, y) - то есть координаты точки"
   ]
  },
  {
   "cell_type": "code",
   "execution_count": 7,
   "metadata": {},
   "outputs": [],
   "source": [
    "class Point:\n",
    "    def __init__(self, x, y):\n",
    "        self.x = x\n",
    "        self.y = y\n",
    "    \n",
    "    def __str__(self):\n",
    "        return \"(\" + str(self.x) + \",\" + str(self.y) +  \")\""
   ]
  },
  {
   "cell_type": "code",
   "execution_count": null,
   "metadata": {},
   "outputs": [],
   "source": []
  },
  {
   "cell_type": "markdown",
   "metadata": {},
   "source": [
    "- После того как Вы создадите класс запустите следующий код"
   ]
  },
  {
   "cell_type": "code",
   "execution_count": 13,
   "metadata": {},
   "outputs": [],
   "source": [
    "import random\n",
    "random.seed(42)\n",
    "points = list()\n",
    "for i in range(1000):\n",
    "    x = random.randint(1, 100)\n",
    "    y = random.randint(1, 100)\n",
    "    points.append(Point(x, y))"
   ]
  },
  {
   "cell_type": "markdown",
   "metadata": {},
   "source": [
    "- Напишите метод, который определит у какой из заданых точек больше всего соседей в радиусе 5.\n",
    "- Если таких точек несколько, то тогда выведите точку с наименьше суммой координат, если таких точек несколько, то выведите точку с наименьше абсциссой."
   ]
  },
  {
   "cell_type": "code",
   "execution_count": null,
   "metadata": {},
   "outputs": [],
   "source": []
  }
 ],
 "metadata": {
  "kernelspec": {
   "display_name": "Python 3",
   "language": "python",
   "name": "python3"
  },
  "language_info": {
   "codemirror_mode": {
    "name": "ipython",
    "version": 3
   },
   "file_extension": ".py",
   "mimetype": "text/x-python",
   "name": "python",
   "nbconvert_exporter": "python",
   "pygments_lexer": "ipython3",
   "version": "3.8.8"
  }
 },
 "nbformat": 4,
 "nbformat_minor": 4
}
