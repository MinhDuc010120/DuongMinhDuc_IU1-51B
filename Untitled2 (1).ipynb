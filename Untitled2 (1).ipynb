{
 "cells": [
  {
   "cell_type": "code",
   "execution_count": 1,
   "metadata": {},
   "outputs": [],
   "source": [
    "import math\n",
    "import numpy as np\n",
    "import matplotlib.pyplot as plt\n",
    "\n",
    "class Perceptron:\n",
    "    def __init__(self, w, learningSpeed):\n",
    "        self.w = w\n",
    "        self.learningSpeed = learningSpeed\n",
    "    def summator(self, inputMatrix):\n",
    "        result = np.dot(self.w, inputMatrix.T)\n",
    "        return result\n",
    "    def activation(self, inputMatrix):\n",
    "        if self.summator(inputMatrix) >= 0.:\n",
    "            return 1.0\n",
    "        else:\n",
    "            return -1.0\n",
    "    def perceptronLearning(self, inputMatrix, y):\n",
    "        self.w += self.learningSpeed * inputMatrix * (y - self.activation(inputMatrix))\n",
    "\n",
    "inputW = np.array([0., 0., 0.])\n",
    "dataset_X = np.array([[1., 1., 1.], [1., 1., 2.], [1., 3., 4.], [1., 1., 3.]])\n",
    "dataset_Y = np.array([1., 1., -1., -1.])\n",
    "\n",
    "def learningEpoch(dataset_X, dataset_Y, learningSpeed):\n",
    "    iterationCount = 0\n",
    "    inputW = np.array([0., 0., 0.])\n",
    "    agent = Perceptron(inputW, learningSpeed)\n",
    "    perfectFlag = False\n",
    "    while not perfectFlag:\n",
    "        iterationCount += 1\n",
    "        perfectFlag = True\n",
    "        for i in range(len(dataset_Y)):\n",
    "            if agent.activation(dataset_X[i]) != dataset_Y[i]:\n",
    "                perfectFlag = False\n",
    "                agent.perceptronLearning(dataset_X[i], dataset_Y[i])\n",
    "    return iterationCount\n",
    "\n",
    "speedList = np.arange(1, 10, 0.1)\n",
    "iterationList = np.zeros(speedList.shape)\n",
    "\n",
    "for i in range(len(speedList)):\n",
    "    iterationList[i] = learningEpoch(dataset_X, dataset_Y, speedList[i])"
   ]
  },
  {
   "cell_type": "code",
   "execution_count": 3,
   "metadata": {},
   "outputs": [
    {
     "data": {
      "image/png": "[encoded data removed]",
      "text/plain": [
       "<Figure size 432x288 with 1 Axes>"
      ]
     },
     "metadata": {
      "needs_background": "light"
     },
     "output_type": "display_data"
    }
   ],
   "source": [
    "plt.scatter(speedList, iterationList);"
   ]
  },
  {
   "cell_type": "code",
   "execution_count": null,
   "metadata": {},
   "outputs": [],
   "source": []
  }
 ],
 "metadata": {
  "kernelspec": {
   "display_name": "Python 3",
   "language": "python",
   "name": "python3"
  },
  "language_info": {
   "codemirror_mode": {
    "name": "ipython",
    "version": 3
   },
   "file_extension": ".py",
   "mimetype": "text/x-python",
   "name": "python",
   "nbconvert_exporter": "python",
   "pygments_lexer": "ipython3",
   "version": "3.8.8"
  }
 },
 "nbformat": 4,
 "nbformat_minor": 2
}
