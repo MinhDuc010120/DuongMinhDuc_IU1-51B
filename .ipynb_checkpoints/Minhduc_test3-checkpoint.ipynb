{
 "cells": [
  {
   "cell_type": "code",
   "execution_count": 5,
   "id": "8fb6f437",
   "metadata": {},
   "outputs": [],
   "source": [
    "class OhNo():\n",
    "    def _init_(self,student_id):\n",
    "        self.student_id = student_id\n",
    "    def run(self, array):\n",
    "        a=self.student_id %4 +1\n",
    "        if a==1:\n",
    "            return self.method1(array)\n",
    "        elif a==2 :\n",
    "            return self.method2(array)\n",
    "        elif a==3 :\n",
    "            return self.method3(array)\n",
    "        elif a==4:\n",
    "            return self.method4(array)\n",
    "    def build_new_array(self, array):\n",
    "        new_array =list()\n",
    "        for elem in array:\n",
    "            if elem > self.student_id:\n",
    "                new_array.append(-1)\n",
    "            else:\n",
    "                new_array.append(self.student_id)\n",
    "        return new_array\n",
    "    def method1(self, array):\n",
    "        array.pop()\n",
    "        array.reverse()\n",
    "        array.pop()\n",
    "        array.append(self.student_id)\n",
    "        return self.build_new_array(array)\n",
    "    def method2(self, array):\n",
    "        array.pop()\n",
    "        array.append(self.student_id)\n",
    "        array.reverse()\n",
    "        return self.build_new_array(array)\n",
    "    def method3(self, array):\n",
    "        array.append(self.student_id)\n",
    "        array.reverse()\n",
    "        array.pop()\n",
    "        return self.build_new_array(array)\n",
    "    def method4(self, array):\n",
    "        array.pop()\n",
    "        array.pop()\n",
    "        array.append(self.student_id)\n",
    "        return self.build_new_array(array)"
   ]
  },
  {
   "cell_type": "code",
   "execution_count": 9,
   "id": "7555db3e",
   "metadata": {},
   "outputs": [
    {
     "name": "stdout",
     "output_type": "stream",
     "text": [
      "1901\n"
     ]
    },
    {
     "ename": "TypeError",
     "evalue": "OhNo() takes no arguments",
     "output_type": "error",
     "traceback": [
      "\u001b[1;31m---------------------------------------------------------------------------\u001b[0m",
      "\u001b[1;31mTypeError\u001b[0m                                 Traceback (most recent call last)",
      "\u001b[1;32m<ipython-input-9-8ed22a8a6661>\u001b[0m in \u001b[0;36m<module>\u001b[1;34m\u001b[0m\n\u001b[0;32m      1\u001b[0m \u001b[0mstudent_id\u001b[0m \u001b[1;33m=\u001b[0m \u001b[0mint\u001b[0m\u001b[1;33m(\u001b[0m\u001b[0minput\u001b[0m\u001b[1;33m(\u001b[0m\u001b[1;33m)\u001b[0m\u001b[1;33m)\u001b[0m\u001b[1;33m\u001b[0m\u001b[1;33m\u001b[0m\u001b[0m\n\u001b[0;32m      2\u001b[0m \u001b[0marray\u001b[0m \u001b[1;33m=\u001b[0m  \u001b[1;33m[\u001b[0m\u001b[1;36m55\u001b[0m\u001b[1;33m,\u001b[0m\u001b[1;36m145\u001b[0m\u001b[1;33m,\u001b[0m\u001b[1;33m-\u001b[0m\u001b[1;36m1\u001b[0m\u001b[1;33m,\u001b[0m\u001b[1;36m100\u001b[0m\u001b[1;33m,\u001b[0m\u001b[1;36m121\u001b[0m\u001b[1;33m,\u001b[0m\u001b[1;36m117\u001b[0m\u001b[1;33m,\u001b[0m\u001b[1;36m109\u001b[0m\u001b[1;33m,\u001b[0m\u001b[1;36m102\u001b[0m\u001b[1;33m,\u001b[0m\u001b[1;33m-\u001b[0m\u001b[1;36m2\u001b[0m\u001b[1;33m,\u001b[0m\u001b[1;36m157\u001b[0m\u001b[1;33m]\u001b[0m\u001b[1;33m\u001b[0m\u001b[1;33m\u001b[0m\u001b[0m\n\u001b[1;32m----> 3\u001b[1;33m \u001b[0mohNo\u001b[0m \u001b[1;33m=\u001b[0m \u001b[0mOhNo\u001b[0m\u001b[1;33m(\u001b[0m\u001b[0mstudent_id\u001b[0m\u001b[1;33m)\u001b[0m\u001b[1;33m\u001b[0m\u001b[1;33m\u001b[0m\u001b[0m\n\u001b[0m\u001b[0;32m      4\u001b[0m \u001b[0mprint\u001b[0m\u001b[1;33m(\u001b[0m\u001b[0mohNo\u001b[0m\u001b[1;33m.\u001b[0m\u001b[0mrun\u001b[0m\u001b[1;33m(\u001b[0m\u001b[0maraay\u001b[0m\u001b[1;33m)\u001b[0m\u001b[1;33m)\u001b[0m\u001b[1;33m\u001b[0m\u001b[1;33m\u001b[0m\u001b[0m\n",
      "\u001b[1;31mTypeError\u001b[0m: OhNo() takes no arguments"
     ]
    }
   ],
   "source": [
    "student_id = int(input())\n",
    "array =  [55,145,-1,100,121,117,109,102,-2,157]\n",
    "ohNo = OhNo(student_id)\n",
    "print(ohNo.run(array))\n"
   ]
  },
  {
   "cell_type": "code",
   "execution_count": 6,
   "id": "9e86433e",
   "metadata": {},
   "outputs": [
    {
     "name": "stdout",
     "output_type": "stream",
     "text": [
      " Volume in drive C has no label.\n",
      " Volume Serial Number is F861-C1CE\n",
      "\n",
      " Directory of C:\\Users\\minhd\\OneDrive\\Máy tính\\Kì 1 nam 3\\congnghethongtin\n",
      "\n",
      "16/10/2021  14:13    <DIR>          .\n",
      "16/10/2021  14:13    <DIR>          ..\n",
      "16/10/2021  13:48    <DIR>          .ipynb_checkpoints\n",
      "14/10/2021  13:37            25,089 BasicHM3 (1).ipynb\n",
      "10/10/2021  16:01             1,134 btvn.ipynb\n",
      "14/10/2021  18:21             6,501 Duong_Dz2.ipynb\n",
      "14/10/2021  14:01             6,066 HM5 (1).ipynb\n",
      "16/10/2021  13:48             2,591 HM6.ipynb\n",
      "09/10/2021  01:11            38,936 LectureN3.ipynb\n",
      "11/10/2021  01:34         1,812,379 LectureN4 (1).ipynb\n",
      "11/10/2021  01:38        11,168,391 LectureN4.ipynb\n",
      "11/10/2021  01:20            32,867 LectureN5.ipynb\n",
      "16/10/2021  13:48            18,794 LectureN6.ipynb\n",
      "16/10/2021  14:11             3,993 Minhduc_test3.ipynb\n",
      "14/10/2021  11:34             2,848 TestN1.ipynb\n",
      "14/10/2021  11:34             2,441 TestN2.ipynb\n",
      "11/10/2021  20:21    <DIR>          tutorials_jupyter\n",
      "14/10/2021  13:41             8,547 Untitled2 (1).ipynb\n",
      "01/10/2021  13:12         1,560,311 ???????? ? ??..pdf\n",
      "              15 File(s)     14,690,888 bytes\n",
      "               4 Dir(s)  13,556,400,128 bytes free\n"
     ]
    }
   ],
   "source": [
    "!dir"
   ]
  },
  {
   "cell_type": "code",
   "execution_count": null,
   "id": "700c61f8",
   "metadata": {},
   "outputs": [],
   "source": []
  }
 ],
 "metadata": {
  "kernelspec": {
   "display_name": "Python 3",
   "language": "python",
   "name": "python3"
  },
  "language_info": {
   "codemirror_mode": {
    "name": "ipython",
    "version": 3
   },
   "file_extension": ".py",
   "mimetype": "text/x-python",
   "name": "python",
   "nbconvert_exporter": "python",
   "pygments_lexer": "ipython3",
   "version": "3.8.8"
  }
 },
 "nbformat": 4,
 "nbformat_minor": 5
}
