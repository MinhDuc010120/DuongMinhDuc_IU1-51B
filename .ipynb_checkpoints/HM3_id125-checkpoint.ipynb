{
 "cells": [
  {
   "cell_type": "markdown",
   "id": "f5d48890",
   "metadata": {},
   "source": [
    "# Домашнее задание"
   ]
  },
  {
   "cell_type": "markdown",
   "id": "18b255c1",
   "metadata": {},
   "source": [
    "1. Запишите в переменную значение <b>целочисленного</b> типа и проверьте тип переменной.\n",
    "2. Запишите в переменную <b>действительное</b> число и проверьте тип переменной.\n",
    "3. Запишите в переменную <b>строку</b> и проверьте тип переменной."
   ]
  },
  {
   "cell_type": "markdown",
   "id": "07b426be",
   "metadata": {},
   "source": [
    "Python будет считать комментарием все, что находится после \"#\" и до конца строки.\n",
    "\n",
    "Всё что указано в строке после # игнорируется компилятором. "
   ]
  },
  {
   "cell_type": "code",
   "execution_count": 3,
   "id": "d3c02f46",
   "metadata": {},
   "outputs": [
    {
     "data": {
      "text/plain": [
       "int"
      ]
     },
     "execution_count": 3,
     "metadata": {},
     "output_type": "execute_result"
    }
   ],
   "source": [
    "# целочисленный тип (положительное)\n",
    "x=5\n",
    "type(x)\n",
    "\n"
   ]
  },
  {
   "cell_type": "code",
   "execution_count": 4,
   "id": "8fb60432",
   "metadata": {},
   "outputs": [
    {
     "data": {
      "text/plain": [
       "tuple"
      ]
     },
     "execution_count": 4,
     "metadata": {},
     "output_type": "execute_result"
    }
   ],
   "source": [
    "# действительный тип\n",
    "z=-5,5\n",
    "type(z)"
   ]
  },
  {
   "cell_type": "code",
   "execution_count": 6,
   "id": "9898e005",
   "metadata": {},
   "outputs": [
    {
     "data": {
      "text/plain": [
       "int"
      ]
     },
     "execution_count": 6,
     "metadata": {},
     "output_type": "execute_result"
    }
   ],
   "source": [
    "# целочисленный тип (отрицательное)\n",
    "x = -20\n",
    "type(x)"
   ]
  },
  {
   "cell_type": "code",
   "execution_count": 7,
   "id": "bbcbd8a8",
   "metadata": {},
   "outputs": [
    {
     "data": {
      "text/plain": [
       "str"
      ]
     },
     "execution_count": 7,
     "metadata": {},
     "output_type": "execute_result"
    }
   ],
   "source": [
    "# строка\n",
    "a='name'\n",
    "type(a)"
   ]
  }
 ],
 "metadata": {
  "kernelspec": {
   "display_name": "Python 3",
   "language": "python",
   "name": "python3"
  },
  "language_info": {
   "codemirror_mode": {
    "name": "ipython",
    "version": 3
   },
   "file_extension": ".py",
   "mimetype": "text/x-python",
   "name": "python",
   "nbconvert_exporter": "python",
   "pygments_lexer": "ipython3",
   "version": "3.8.8"
  }
 },
 "nbformat": 4,
 "nbformat_minor": 5
}
