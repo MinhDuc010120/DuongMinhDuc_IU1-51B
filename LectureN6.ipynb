{
 "cells": [
  {
   "cell_type": "markdown",
   "metadata": {},
   "source": [
    "# Реализация метода, который красиво выводит на экран матрицу"
   ]
  },
  {
   "cell_type": "code",
   "execution_count": null,
   "metadata": {},
   "outputs": [],
   "source": [
    "def get_column(B, j):\n",
    "    column_B = []\n",
    "    for row_B in B:\n",
    "        column_B.append(row_B[j])\n",
    "    return column_B"
   ]
  },
  {
   "cell_type": "code",
   "execution_count": null,
   "metadata": {},
   "outputs": [],
   "source": [
    "def dot_product(x, y):\n",
    "    dot_product = 0\n",
    "    for i in range(len(x)):\n",
    "        dot_product += x[i] * y[i]\n",
    "    return dot_product"
   ]
  },
  {
   "cell_type": "code",
   "execution_count": null,
   "metadata": {},
   "outputs": [],
   "source": [
    "def matrix_mult(A, B):\n",
    "    C = []\n",
    "    if len(A[0])==len(B):\n",
    "        for row in A:\n",
    "            c_row = []\n",
    "            for j in range(len(B[0])):\n",
    "                column_Bj = get_column(B, j)\n",
    "                c = dot_product(row, column_Bj)\n",
    "                c_row.append(c)\n",
    "            C.append(c_row)\n",
    "    return C"
   ]
  },
  {
   "cell_type": "code",
   "execution_count": null,
   "metadata": {},
   "outputs": [],
   "source": [
    "A = [[111,1], [2, 2], [3,3]]\n",
    "B = [[1, 0, 1, 0, 1], [3, 2, 1, 0 ,1]]"
   ]
  },
  {
   "cell_type": "code",
   "execution_count": null,
   "metadata": {},
   "outputs": [],
   "source": [
    "C = matrix_mult(A, B)"
   ]
  },
  {
   "cell_type": "code",
   "execution_count": null,
   "metadata": {
    "scrolled": true
   },
   "outputs": [],
   "source": [
    "C"
   ]
  },
  {
   "cell_type": "code",
   "execution_count": null,
   "metadata": {},
   "outputs": [],
   "source": [
    "for row in C:\n",
    "    print(row)"
   ]
  },
  {
   "cell_type": "code",
   "execution_count": null,
   "metadata": {},
   "outputs": [],
   "source": [
    "def chislo_raz(n):\n",
    "    if n == 0:\n",
    "        return 1\n",
    "    i = 0\n",
    "    while n >= 1.0:\n",
    "        i += 1\n",
    "        n /= 10\n",
    "    return i"
   ]
  },
  {
   "cell_type": "code",
   "execution_count": null,
   "metadata": {},
   "outputs": [],
   "source": [
    "def print_matrix(C):\n",
    "    for row in C:\n",
    "        print(row)"
   ]
  },
  {
   "cell_type": "code",
   "execution_count": null,
   "metadata": {},
   "outputs": [],
   "source": [
    "all_rows = []\n",
    "for row in C:\n",
    "    all_rows += row\n",
    "m = chislo_raz(max(all_rows))"
   ]
  },
  {
   "cell_type": "code",
   "execution_count": null,
   "metadata": {},
   "outputs": [],
   "source": [
    "m"
   ]
  },
  {
   "cell_type": "code",
   "execution_count": null,
   "metadata": {},
   "outputs": [],
   "source": [
    "print_matrix(C)"
   ]
  },
  {
   "cell_type": "code",
   "execution_count": null,
   "metadata": {},
   "outputs": [],
   "source": [
    "'8'.rjust(3)"
   ]
  },
  {
   "cell_type": "code",
   "execution_count": null,
   "metadata": {
    "scrolled": true
   },
   "outputs": [],
   "source": [
    "'1'.ljust(5)"
   ]
  },
  {
   "cell_type": "code",
   "execution_count": null,
   "metadata": {},
   "outputs": [],
   "source": [
    "str(1).rjust(3)"
   ]
  },
  {
   "cell_type": "code",
   "execution_count": null,
   "metadata": {},
   "outputs": [],
   "source": [
    "for row in C:\n",
    "    row_str = \"\"\n",
    "    for element in row:\n",
    "        row_str += str(element).rjust(m) + \" \"\n",
    "    print(row_str)"
   ]
  },
  {
   "cell_type": "markdown",
   "metadata": {},
   "source": [
    "### Метод dir(*)"
   ]
  },
  {
   "cell_type": "code",
   "execution_count": null,
   "metadata": {},
   "outputs": [],
   "source": [
    "string = \"1\"\n",
    "len(string)"
   ]
  },
  {
   "cell_type": "code",
   "execution_count": null,
   "metadata": {
    "scrolled": false
   },
   "outputs": [],
   "source": [
    "[1,2] + [1, 3]"
   ]
  },
  {
   "cell_type": "code",
   "execution_count": null,
   "metadata": {},
   "outputs": [],
   "source": [
    "for method in dir(list):\n",
    "    if 'just' in method:\n",
    "        print(method)"
   ]
  },
  {
   "cell_type": "code",
   "execution_count": null,
   "metadata": {},
   "outputs": [],
   "source": [
    "[1,2].rjust(1)"
   ]
  },
  {
   "cell_type": "markdown",
   "metadata": {},
   "source": [
    "# ООП\n",
    "- ООП - парадигма программирования, основными концепциями, которой являются понятия объета и класса. \n",
    "- Класс - \"тип данных\", который описывает устройство объектов (модель).\n",
    "- Объект - экземпляр класса.\n",
    "\n",
    "В Python все является объектами некоторых классов:\n",
    "- строки\n",
    "- списки\n",
    "- словари\n",
    "- другие типы данных."
   ]
  },
  {
   "cell_type": "code",
   "execution_count": null,
   "metadata": {},
   "outputs": [],
   "source": [
    "class EmptyClass:\n",
    "    def __init__(self):\n",
    "        pass"
   ]
  },
  {
   "cell_type": "code",
   "execution_count": null,
   "metadata": {},
   "outputs": [],
   "source": [
    "empty1 = EmptyClass()\n",
    "empty2 = EmptyClass()"
   ]
  },
  {
   "cell_type": "code",
   "execution_count": null,
   "metadata": {},
   "outputs": [],
   "source": [
    "empty1.a = 5\n",
    "empty2.b = 6"
   ]
  },
  {
   "cell_type": "code",
   "execution_count": null,
   "metadata": {},
   "outputs": [],
   "source": [
    "dir(empty2)"
   ]
  },
  {
   "cell_type": "code",
   "execution_count": null,
   "metadata": {},
   "outputs": [],
   "source": [
    "class SimpleClass:\n",
    "    def method_one(self): # self - обязательный аргумент, содержащий в себе экземпляр класса, передающийся при вызове метода,\n",
    "                 # этот аргумент должен пристутсовать во всех методах класса.\n",
    "        print(\"I'm in method 1.\")\n",
    "        return \"method_1\""
   ]
  },
  {
   "cell_type": "code",
   "execution_count": null,
   "metadata": {},
   "outputs": [],
   "source": [
    "# создать экземпляр класса\n",
    "simple_class1 = SimpleClass()\n",
    "# вызвать метод\n",
    "answer = simple_class1.method_one()"
   ]
  },
  {
   "cell_type": "code",
   "execution_count": null,
   "metadata": {},
   "outputs": [],
   "source": [
    "SimpleClass().method_one"
   ]
  },
  {
   "cell_type": "code",
   "execution_count": null,
   "metadata": {},
   "outputs": [],
   "source": [
    "class SimpleClassWithMethodDocumentation:\n",
    "    def method_one(self):\n",
    "        \"\"\"Method prints I\\'m method 1 and then returns method_1.\n",
    "        Second row of documentation. :-)\n",
    "        Third row\"\"\"\n",
    "        print(\"I'm in method 1.\")\n",
    "        return \"method_1\""
   ]
  },
  {
   "cell_type": "code",
   "execution_count": null,
   "metadata": {},
   "outputs": [],
   "source": [
    "SimpleClassWithMethodDocumentation().method_one"
   ]
  },
  {
   "cell_type": "code",
   "execution_count": null,
   "metadata": {},
   "outputs": [],
   "source": [
    "# в классе можно определить переменную, которая будет принадлежать каждому экземпялру\n",
    "class SimpleClassWithVariable:\n",
    "    class_variable = 5"
   ]
  },
  {
   "cell_type": "code",
   "execution_count": null,
   "metadata": {},
   "outputs": [],
   "source": [
    "SimpleClassWithVariable.class_variable"
   ]
  },
  {
   "cell_type": "code",
   "execution_count": null,
   "metadata": {},
   "outputs": [],
   "source": [
    "# create two SimpleClassWithVariable ex. and change variable value. What happens?\n",
    "simple1 = SimpleClassWithVariable()\n",
    "simple2 = SimpleClassWithVariable()"
   ]
  },
  {
   "cell_type": "code",
   "execution_count": null,
   "metadata": {},
   "outputs": [],
   "source": [
    "class Interval:\n",
    "    length = 1"
   ]
  },
  {
   "cell_type": "code",
   "execution_count": null,
   "metadata": {},
   "outputs": [],
   "source": [
    "interval1 = Interval() # длина 2\n",
    "interval2 = Interval() # длина 3\n",
    "interval1.length = 2\n",
    "interval2.length = 3"
   ]
  },
  {
   "cell_type": "code",
   "execution_count": null,
   "metadata": {},
   "outputs": [],
   "source": [
    "interval1.length"
   ]
  },
  {
   "cell_type": "code",
   "execution_count": null,
   "metadata": {},
   "outputs": [],
   "source": [
    "class Interval:    \n",
    "    def __init__(self, length):\n",
    "        self.length = length"
   ]
  },
  {
   "cell_type": "code",
   "execution_count": null,
   "metadata": {},
   "outputs": [],
   "source": [
    "interval1 = Interval(2)"
   ]
  },
  {
   "cell_type": "code",
   "execution_count": null,
   "metadata": {},
   "outputs": [],
   "source": [
    "interval1.length"
   ]
  },
  {
   "cell_type": "code",
   "execution_count": null,
   "metadata": {
    "scrolled": true
   },
   "outputs": [],
   "source": [
    "print([1, 2, 3])"
   ]
  },
  {
   "cell_type": "code",
   "execution_count": null,
   "metadata": {
    "scrolled": true
   },
   "outputs": [],
   "source": [
    "print(interval1)"
   ]
  },
  {
   "cell_type": "code",
   "execution_count": null,
   "metadata": {},
   "outputs": [],
   "source": [
    "str(interval1)"
   ]
  },
  {
   "cell_type": "code",
   "execution_count": null,
   "metadata": {},
   "outputs": [],
   "source": [
    "# переопределение метода str\n",
    "class SimpleClassWithVariableAndNewStrMethodBody:\n",
    "    class_variable = 5\n",
    "    \n",
    "    def __str__(self):\n",
    "        return str(self.class_variable)"
   ]
  },
  {
   "cell_type": "code",
   "execution_count": null,
   "metadata": {},
   "outputs": [],
   "source": [
    "# как это работает?\n",
    "simple1 = SimpleClassWithVariableAndNewStrMethodBody()\n",
    "simple2 = SimpleClassWithVariableAndNewStrMethodBody()\n",
    "simple2.class_variable = 10"
   ]
  },
  {
   "cell_type": "code",
   "execution_count": null,
   "metadata": {},
   "outputs": [],
   "source": [
    "print(simple2)"
   ]
  },
  {
   "cell_type": "code",
   "execution_count": null,
   "metadata": {},
   "outputs": [],
   "source": [
    "class Box:\n",
    "    width = 1\n",
    "    height = 1\n",
    "    length = 1\n",
    "    \n",
    "    def volume(self): # or get_volume\n",
    "        return self.width * self.height * self.length"
   ]
  },
  {
   "cell_type": "code",
   "execution_count": null,
   "metadata": {},
   "outputs": [],
   "source": [
    "box1 = Box()"
   ]
  },
  {
   "cell_type": "code",
   "execution_count": null,
   "metadata": {},
   "outputs": [],
   "source": [
    "box1.volume()"
   ]
  },
  {
   "cell_type": "code",
   "execution_count": null,
   "metadata": {},
   "outputs": [],
   "source": [
    "box2 = Box()\n",
    "box2.width = 2\n",
    "box2.length = 3\n",
    "box2.height = 4"
   ]
  },
  {
   "cell_type": "code",
   "execution_count": null,
   "metadata": {},
   "outputs": [],
   "source": [
    "box2.volume()"
   ]
  },
  {
   "cell_type": "code",
   "execution_count": null,
   "metadata": {},
   "outputs": [],
   "source": [
    "# можно инициализировать переменные сразу\n",
    "class BoxWithInitMethod:\n",
    "    def __init__(self, width, length, height):\n",
    "        \"\"\"width - ширина\n",
    "        length - длина\n",
    "        height - высота\"\"\"\n",
    "        self.width = width\n",
    "        self.length = length\n",
    "        self.height = height\n",
    "        \n",
    "    def volume(self): # or get_volume\n",
    "        return self.width * self.height * self.length\n",
    "    \n",
    "    def __str__(self):\n",
    "        return \"ширина: \" + str(self.width) + \"\\nдлина: \" + str(self.length) + \"\\nвысота: \" + str(self.height)"
   ]
  },
  {
   "cell_type": "code",
   "execution_count": null,
   "metadata": {},
   "outputs": [],
   "source": [
    "box = BoxWithInitMethod(2, 3, 4)"
   ]
  },
  {
   "cell_type": "code",
   "execution_count": null,
   "metadata": {
    "scrolled": true
   },
   "outputs": [],
   "source": [
    "box.volume()"
   ]
  },
  {
   "cell_type": "code",
   "execution_count": null,
   "metadata": {},
   "outputs": [],
   "source": [
    "print(box)"
   ]
  },
  {
   "cell_type": "code",
   "execution_count": null,
   "metadata": {},
   "outputs": [],
   "source": [
    "class Box: #file_name.py\n",
    "    def __init__(self, width, length, height):\n",
    "        \"\"\"width - ширина\n",
    "        length - длина\n",
    "        height - высота\"\"\"\n",
    "        self.width = width\n",
    "        self.length = length\n",
    "        self.height = height\n",
    "        \n",
    "    def volume(self): # or get_volume\n",
    "        return self.width * self.height * self.length\n",
    "    \n",
    "    def side_square(self):\n",
    "        return 2*(self.width * self.length + self.width * self.height + self.length * self.height)\n",
    "    \n",
    "    def __str__(self):\n",
    "        return \"ширина: \" + str(self.width) + \"\\nдлина: \" + str(self.length) + \"\\nвысота: \" + str(self.height)"
   ]
  },
  {
   "cell_type": "code",
   "execution_count": null,
   "metadata": {},
   "outputs": [],
   "source": [
    "box = Box(2, 3, 4)\n",
    "print(\"Box volume:\", box.volume())\n",
    "print(\"Box side square:\", box.side_square())"
   ]
  },
  {
   "cell_type": "code",
   "execution_count": null,
   "metadata": {},
   "outputs": [],
   "source": [
    "from my_classes.Box import Box"
   ]
  },
  {
   "cell_type": "code",
   "execution_count": null,
   "metadata": {},
   "outputs": [],
   "source": [
    "box = Box(2, 3, 4)\n",
    "print(\"Box volume:\", box.volume())\n",
    "print(\"Box side square:\", box.side_square())"
   ]
  },
  {
   "cell_type": "markdown",
   "metadata": {},
   "source": [
    "импорт данного класса\n",
    "- создадим .py файл\n",
    "- переместим туда код\n",
    "- импортируем код"
   ]
  },
  {
   "cell_type": "code",
   "execution_count": null,
   "metadata": {},
   "outputs": [],
   "source": [
    "#import Box # в файле может находится несколько классов, поэтому если хотим импротировать конкретный класс, то нужно ->>\n",
    "from my_classes.Box import Box as BoxImported"
   ]
  },
  {
   "cell_type": "code",
   "execution_count": null,
   "metadata": {},
   "outputs": [],
   "source": [
    "box = BoxImported(2, 3, 4)\n",
    "print(\"Box volume:\", box.volume())\n",
    "print(\"Box side square:\", box.side_square())"
   ]
  },
  {
   "cell_type": "code",
   "execution_count": 5,
   "metadata": {},
   "outputs": [],
   "source": [
    "#dir(list)"
   ]
  },
  {
   "cell_type": "code",
   "execution_count": 38,
   "metadata": {},
   "outputs": [],
   "source": [
    "class BankAccount:\n",
    "    def __init__(self, client_id, balance):\n",
    "        self.__client_id = client_id\n",
    "        self.__balance = balance # Как защитить переменную от прямого доступа?\n",
    "            \n",
    "    def __str__(self):\n",
    "        return \"client_id = \" + str(self.__client_id) + \" \\ncash = \" + str(self.__balance) + \"$\"\n",
    "    \n",
    "    def __add__(self, other):\n",
    "        if self.__client_id == other.__client_id:\n",
    "            client_id = self.__client_id\n",
    "            total_balance = self.__balance + other.__balance\n",
    "            self.__client_id = 0\n",
    "            self.__balance = 0\n",
    "            other.__client_id = 0\n",
    "            other.__balance = 0\n",
    "            return BankAccount(client_id, total_balance)\n",
    "        else:\n",
    "            raise Exception(\"Bank account must have same id.\")\n",
    "    \n",
    "    def get_client_id(self):\n",
    "        return self.__client_id"
   ]
  },
  {
   "cell_type": "code",
   "execution_count": 41,
   "metadata": {},
   "outputs": [],
   "source": [
    "bank_account1 = BankAccount(1, 10000000)\n",
    "bank_account2 = BankAccount(2, 20000)\n",
    "bank_account2.balance = 10000000000"
   ]
  },
  {
   "cell_type": "code",
   "execution_count": 42,
   "metadata": {
    "scrolled": true
   },
   "outputs": [],
   "source": [
    "if bank_account1.get_client_id() == bank_account2.get_client_id(): \n",
    "    print(bank_account1 + bank_account2)"
   ]
  },
  {
   "cell_type": "code",
   "execution_count": 25,
   "metadata": {},
   "outputs": [],
   "source": [
    "bank_account1.balance = 20000"
   ]
  },
  {
   "cell_type": "code",
   "execution_count": 18,
   "metadata": {},
   "outputs": [
    {
     "name": "stdout",
     "output_type": "stream",
     "text": [
      "client_id = 0 \n",
      "cash = 0$\n"
     ]
    }
   ],
   "source": [
    "print(bank_account2)"
   ]
  },
  {
   "cell_type": "code",
   "execution_count": null,
   "metadata": {},
   "outputs": [],
   "source": [
    "bank_account = bank_account1 + bank_account2"
   ]
  },
  {
   "cell_type": "code",
   "execution_count": null,
   "metadata": {},
   "outputs": [],
   "source": [
    "print(bank_account)"
   ]
  },
  {
   "cell_type": "code",
   "execution_count": null,
   "metadata": {},
   "outputs": [],
   "source": [
    "str(bank_account)"
   ]
  },
  {
   "cell_type": "code",
   "execution_count": null,
   "metadata": {},
   "outputs": [],
   "source": [
    "str([1, 2, 3])"
   ]
  },
  {
   "cell_type": "code",
   "execution_count": null,
   "metadata": {},
   "outputs": [],
   "source": []
  }
 ],
 "metadata": {
  "kernelspec": {
   "display_name": "Python 3",
   "language": "python",
   "name": "python3"
  },
  "language_info": {
   "codemirror_mode": {
    "name": "ipython",
    "version": 3
   },
   "file_extension": ".py",
   "mimetype": "text/x-python",
   "name": "python",
   "nbconvert_exporter": "python",
   "pygments_lexer": "ipython3",
   "version": "3.8.8"
  }
 },
 "nbformat": 4,
 "nbformat_minor": 4
}
